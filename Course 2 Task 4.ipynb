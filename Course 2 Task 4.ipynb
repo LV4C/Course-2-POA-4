{
 "cells": [
  {
   "cell_type": "markdown",
   "metadata": {},
   "source": [
    "# Capstone Project Course 2 Task 4"
   ]
  },
  {
   "cell_type": "markdown",
   "metadata": {},
   "source": [
    "### This project will focus on analyzing customer data gathered through surveys. The model will be built with a different type of data det but I plan to make it flexible enough to analyze the data as new information is gathered over time.\n",
    "\n",
    "### The problems this data analysis tool would solve include:\n",
    ">What is the customer profile for those with the highest annual sales?\n",
    "\n",
    ">What types of restaurant concepts tend to have the highest annual sales?\n",
    "\n",
    ">What is restaurant choice made by type of restaurant?\n",
    "\n",
    ">What products sell well for each restaurant concept (QSR, FSR, Pizza, Fine Dining)\n",
    "\n",
    ">What are the highest priorities ranked by restaurant concept (will rank a pre-set list)\n",
    "\n",
    "### This analysis will require use of both continuous and discrete data so it will be a combination of regression and classification analyses. Specific attributes that will need to be measured include:\n",
    ">Type of business (Quick Serve Restaurant = 1, Full Service = 2, Fine Dining = 3,etc.)\n",
    "\n",
    ">Revenue per year\n",
    "\n",
    ">What products did they purchase (Product X = 1, Product Y = 2, etc.)?\n",
    "\n",
    ">Number of restaurants in the franchise\n",
    "\n",
    ">Priorities (Improved efficiency = 1, Increase average sale = 2, etc.)\n",
    "\n",
    ">Decision maker (operator = 1, business manager = 2, IT lead = 3, etc.)\n",
    "\n",
    "### Once the survey data is gathered, the following methodology will be used to conduct the analysis \n",
    "\n",
    ">Python and all libraries needed to solve the problem\n",
    "\n",
    ">Data collection, pre-processing including discretizing revenue and size of business, removing duplicates.\n",
    "\n",
    ">Data Visualization will show how the various attributes influence increase in revenue per year. Examples of relationships to explore include which types of business tend to have the highest number of products purchased or what are the priorities for the highest revenue businesses, etc.)\n",
    "\n",
    ">Data science process would include conducting a regression and classification analysis\n",
    "\n",
    ">Predictive modeling of what the ideal prospect would look like and evaluate the outcomes versus what we know about the data. \n",
    "\n",
    ">Determine model fit\n",
    "\n",
    ">Model selection\n",
    "\n",
    "\n",
    ">Cross validation\n",
    "\n",
    "### Considering using this data set:  https://www.kaggle.com/mrmorj/restaurant-recommendation-challenge?select=VariableDefinitions.txt\n"
   ]
  },
  {
   "cell_type": "code",
   "execution_count": null,
   "metadata": {},
   "outputs": [],
   "source": []
  }
 ],
 "metadata": {
  "kernelspec": {
   "display_name": "Python 3",
   "language": "python",
   "name": "python3"
  },
  "language_info": {
   "codemirror_mode": {
    "name": "ipython",
    "version": 3
   },
   "file_extension": ".py",
   "mimetype": "text/x-python",
   "name": "python",
   "nbconvert_exporter": "python",
   "pygments_lexer": "ipython3",
   "version": "3.8.5"
  }
 },
 "nbformat": 4,
 "nbformat_minor": 4
}
